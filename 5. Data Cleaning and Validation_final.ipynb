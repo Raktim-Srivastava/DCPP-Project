{
 "cells": [
  {
   "cell_type": "markdown",
   "id": "ceae4af1",
   "metadata": {},
   "source": [
    "## Data Cleaning and Validation  Code"
   ]
  },
  {
   "cell_type": "code",
   "execution_count": null,
   "id": "26a73233",
   "metadata": {},
   "outputs": [],
   "source": [
    "#!pip install excel2json-3\n",
    "\n",
    "import pandas as pd\n",
    "import numpy as np \n",
    "from datetime import datetime\n",
    "import re\n",
    "import math"
   ]
  },
  {
   "cell_type": "code",
   "execution_count": null,
   "id": "7fe645ef",
   "metadata": {
    "scrolled": true
   },
   "outputs": [],
   "source": [
    "uncleansed_data = pd.read_excel(\"Companies_final.xls\")"
   ]
  },
  {
   "cell_type": "code",
   "execution_count": null,
   "id": "cbfb0100",
   "metadata": {
    "scrolled": false
   },
   "outputs": [],
   "source": [
    "uncleansed_data.shape"
   ]
  },
  {
   "cell_type": "markdown",
   "id": "3b5bf52a",
   "metadata": {},
   "source": [
    "Performing Santiy Checks for all  the attributes of the data. these sanity checks are done to see whether data catured from zuabacorp website has been extracted and following the expected conventions."
   ]
  },
  {
   "cell_type": "markdown",
   "id": "ab0553d1",
   "metadata": {},
   "source": [
    "## Performing Sanity Checks on All the attributes - Finiding Incosistencies"
   ]
  },
  {
   "cell_type": "code",
   "execution_count": null,
   "id": "89bf9daf",
   "metadata": {},
   "outputs": [],
   "source": [
    "## Creating Sanity Check functions for different types of Attributes :\n",
    "\n",
    "\n",
    "## Sanity Check for Non-Numeric Columns i.e Columns for which we expect Non Numeric values\n",
    "\n",
    "def nonnum_col_sanity(column,dataset) :\n",
    "    \n",
    "    Issue_col_name_gen = \"Issue in \" + column\n",
    "    \n",
    "    data = dataset\n",
    "    \n",
    "    data[Issue_col_name_gen] = data[column].apply(lambda x : 1 if x in [\"-\",\"\"] or\n",
    "                                                  pd.isnull(x) or \n",
    "                                                  isinstance(x,int) or\n",
    "                                                  x.isnumeric()\n",
    "                                                  else 0)\n",
    "    return(data[Issue_col_name_gen])\n",
    "\n",
    "\n",
    "## Sanity Check for Numeric Columns i.e Columns for which we expect Numeric values\n",
    "\n",
    "def num_col_sanity(column,dataset) :\n",
    "    \n",
    "    Issue_col_name_gen = \"Issue in \" + column\n",
    "    \n",
    "    data = dataset\n",
    "    \n",
    "    data[Issue_col_name_gen] = data[column].apply(lambda x : 1 if pd.isnull(x) or \n",
    "                                                                        isinstance(x, str) or\n",
    "                                                                        str(x).isalpha()\n",
    "                                                                        else 0)\n",
    "    return(data[Issue_col_name_gen])\n",
    "\n",
    "\n",
    "## Sanity Check for attributes expected to have URLs :\n",
    "\n",
    "def url_col_sanity(column,dataset) :\n",
    "    \n",
    "    Issue_col_name_gen = \"Issue in \" + column\n",
    "    \n",
    "    data = dataset\n",
    "    \n",
    "    data[Issue_col_name_gen] = data[column].apply(lambda x : 0 if re.match(\"(?:https|http|ftp):\\/\\/\\S+\",str(x)) \n",
    "                                                                        else 1)\n",
    "    \n",
    "    return(data[Issue_col_name_gen])\n",
    "\n",
    "\n",
    "\n",
    "## Sanity Check for Email ID :\n",
    "\n",
    "def email_col_sanity(column,dataset) :\n",
    "    \n",
    "    Issue_col_name_gen = \"Issue in \" + column\n",
    "    data = dataset\n",
    "    \n",
    "    data[Issue_col_name_gen] = data[column].apply(lambda x : 0 if re.match(\"\\S+@\\S+\",str(x))\n",
    "                                                                        else 1)\n",
    "    return(data[Issue_col_name_gen])\n",
    "\n",
    "\n",
    "\n",
    "## Sanity Check for Attributes expected to have Date value :\n",
    "\n",
    "def date_col_sanity(column,dataset) :\n",
    "    \n",
    "    Issue_col_name_gen = \"Issue in \" + column\n",
    "    data = dataset\n",
    "    \n",
    "    data[Issue_col_name_gen] = data[column].apply(lambda x : 1 if \n",
    "                                                                        isinstance(x,str) or\n",
    "                                                                        isinstance(x,int) or\n",
    "                                                                        isinstance(x,float)\n",
    "                                                                        else 0)\n",
    "    return(data[Issue_col_name_gen])\n",
    "    "
   ]
  },
  {
   "cell_type": "code",
   "execution_count": null,
   "id": "9865e5eb",
   "metadata": {},
   "outputs": [],
   "source": [
    "non_num_cols = [\"Name\",\"CIN\",\"Company Status\",\"RoC\",\"Company Category\",\"Company Subcategory\",\"Class of Company\",\"Activity\",\n",
    "               \"Address\"]\n",
    "\n",
    "num_cols = [\"Registration Number\",\"Age of Company\",\"Number of Members\",\"Authorized Capital\",\"Paid up Capital\",\n",
    "            \"Number of Directors\",\"No of Prosecution\",\"Charges/Borrowing Details\"]\n",
    "\n",
    "url_cols = [\"URL\",\"Website\"]\n",
    "\n",
    "email_cols = [\"Email ID\"]\n",
    "\n",
    "date_cols = [\"Date of Incorporation\",\"Date of Last Annual General Meeting\",\"Date of Latest Balance Sheet\"]\n"
   ]
  },
  {
   "cell_type": "code",
   "execution_count": null,
   "id": "3fdf7950",
   "metadata": {},
   "outputs": [],
   "source": [
    "cols = uncleansed_data.columns"
   ]
  },
  {
   "cell_type": "code",
   "execution_count": null,
   "id": "d16f6f61",
   "metadata": {
    "scrolled": true
   },
   "outputs": [],
   "source": [
    "\n",
    "## Performing Sanity checks on the attributes in our Dataset\n",
    "for i in cols :\n",
    "    \n",
    "    Issue_col_name_gen = \"Issue in \" + i\n",
    "    \n",
    "    if i in non_num_cols:\n",
    "        nonnum_col_sanity(i,uncleansed_data)\n",
    "        \n",
    "    elif i in num_cols:\n",
    "        num_col_sanity(i,uncleansed_data)\n",
    "        \n",
    "    elif i in url_cols:\n",
    "        url_col_sanity(i,uncleansed_data)\n",
    "    \n",
    "    elif i in email_cols:\n",
    "        email_col_sanity(i,uncleansed_data)\n",
    "        \n",
    "    elif i in date_cols:\n",
    "        date_col_sanity(i,uncleansed_data)\n",
    "    else : pass\n",
    "    \n",
    "    print(\"Total issues in \" + i + \" : \" + str(sum(uncleansed_data[Issue_col_name_gen])))\n",
    "\n"
   ]
  },
  {
   "cell_type": "markdown",
   "id": "5b312430",
   "metadata": {},
   "source": [
    "Checking for the above issue to see if the issues can be resolved or the isssue has been captured wrongly."
   ]
  },
  {
   "cell_type": "markdown",
   "id": "a9d422e1",
   "metadata": {},
   "source": [
    "## Removing Records, highlighted as issues in selected Non-Numerical Columns\n",
    "\n",
    "Since, in Non Numerical columns like Company Status, Cateogry, Subcateory, only 0.15% records have been highlighted as issue. Hence, removing the issue records "
   ]
  },
  {
   "cell_type": "markdown",
   "id": "f51896ed",
   "metadata": {},
   "source": [
    "Removing All the records for which we are issues in :\n",
    "1) Company Status ;\n",
    "2) Company Category ;\n",
    "3) Class of Company ;\n",
    "4) Company Subcategory"
   ]
  },
  {
   "cell_type": "code",
   "execution_count": null,
   "id": "e8807ad9",
   "metadata": {},
   "outputs": [],
   "source": [
    "issue_cols_rm = [\"Issue in Company Status\", \"Issue in Company Category\",\"Issue in Class of Company\",\n",
    "                 \"Issue in Company Subcategory\"]\n",
    "\n",
    "uncleansed_data[\"Records to be Removed Error Sum\"] = uncleansed_data[issue_cols_rm].sum(axis = 1)\n",
    "uncleansed_data[\"Records to be Removed Flag\"] = uncleansed_data[\"Records to be Removed Error Sum\"].apply(lambda x : 0 if x ==0\n",
    "                                                                                                        else 1)\n",
    "\n",
    "\n",
    "cleansed_1  = uncleansed_data[uncleansed_data[\"Records to be Removed Flag\"] ==0].reset_index(drop=True)\n"
   ]
  },
  {
   "cell_type": "code",
   "execution_count": null,
   "id": "28b6e8da",
   "metadata": {},
   "outputs": [],
   "source": [
    "cleansed_1.shape"
   ]
  },
  {
   "cell_type": "markdown",
   "id": "ff41c6dc",
   "metadata": {},
   "source": [
    "## Fixing Numerical Columns\n",
    "\n",
    "Since, for all the Numerical Columns, almost all the records have been highlighted as issue, we need to deep dive and see what is causing the issue and resolv ethem accordingly"
   ]
  },
  {
   "cell_type": "code",
   "execution_count": null,
   "id": "8d996f9a",
   "metadata": {},
   "outputs": [],
   "source": [
    "## Checking if Numeric Columns have all the numeric entries but have been stores as String/Object :\n",
    "\n",
    "def num_stored_str(column) :\n",
    "    \n",
    "    Issue_col_name_gen = \"Issue in \" + column\n",
    "    \n",
    "    cleansed_1[Issue_col_name_gen] = cleansed_1[column].apply(lambda x : 0 if\n",
    "                                                              isinstance(x,int) or\n",
    "                                                              isinstance(x,float) or\n",
    "                                                              x.isnumeric()\n",
    "                                                              else 1)\n",
    "    return(cleansed_1[Issue_col_name_gen])\n",
    "\n",
    "\n",
    "num_col_chk = [\"Registration Number\", \"Age of Company\", \"Number of Members\",\"Authorized Capital\", \"Paid up Capital\"]\n",
    "\n",
    " \n",
    "    \n",
    "for i in num_col_chk :\n",
    "    Issue_col_name_gen = \"Issue in \" + i\n",
    "    \n",
    "    num_stored_str(i)\n",
    "    \n",
    "    print(\"Total Records in \" + i + \" not a numeric value = \" + str(sum(cleansed_1[Issue_col_name_gen])))\n"
   ]
  },
  {
   "cell_type": "code",
   "execution_count": null,
   "id": "f53fc428",
   "metadata": {},
   "outputs": [],
   "source": [
    "## Only Registration Number is the only Attribute which is supposed to be numeric but is stored as String/Object.\n",
    "## Hence, changing its type from object to Numeric\n",
    "\n",
    "cleansed_1[\"Registration Number\"] = pd.to_numeric(cleansed_1[\"Registration Number\"])\n"
   ]
  },
  {
   "cell_type": "markdown",
   "id": "3c14f39f",
   "metadata": {},
   "source": [
    "Checking the issued in Age of the Company, Number of Members, Authorized Capital and Paid up Capital "
   ]
  },
  {
   "cell_type": "code",
   "execution_count": null,
   "id": "886b6ce1",
   "metadata": {},
   "outputs": [],
   "source": [
    "## Age of Company \n",
    "\n",
    "cleansed_1[\"Age of Company\"].unique()"
   ]
  },
  {
   "cell_type": "code",
   "execution_count": null,
   "id": "e62522a1",
   "metadata": {},
   "outputs": [],
   "source": [
    "## Since, Age of the Company is given as \"xx years, xx months, xx days\" we need to convert it into a numeric value.\n",
    "\n",
    "def age_calc(x) :\n",
    "    \n",
    "    years = int(x.split()[0])\n",
    "    months = int(x.split()[2])\n",
    "    days =  int(x.split()[4])\n",
    "    \n",
    "    age_days = years*365 + months*30 + days\n",
    "    age = int(age_days/365)\n",
    "    return age\n",
    "\n",
    "\n",
    "\n",
    "cleansed_1[\"Age of Company\"] = cleansed_1[\"Age of Company\"].apply(lambda x : age_calc(x))\n"
   ]
  },
  {
   "cell_type": "code",
   "execution_count": null,
   "id": "984f24e3",
   "metadata": {},
   "outputs": [],
   "source": [
    "## Checking whether issues have been resolved \n",
    "\n",
    "cleansed_1[\"Issue in Age of Company\"] = num_col_sanity(\"Age of Company\",cleansed_1)\n",
    "\n",
    "print( \"Issues have not been resolved for : \" +str(sum(cleansed_1[\"Issue in Age of Company\"])) + \" Records\")\n"
   ]
  },
  {
   "cell_type": "code",
   "execution_count": null,
   "id": "dfe45b96",
   "metadata": {},
   "outputs": [],
   "source": [
    "## Number of Members \n",
    "\n",
    "cleansed_1[\"Number of Members\"].unique()"
   ]
  },
  {
   "cell_type": "code",
   "execution_count": null,
   "id": "969e4b76",
   "metadata": {
    "scrolled": true
   },
   "outputs": [],
   "source": [
    "## Since, for some records Number of Members = \"Login to view previous cins\" &\"-\", which is causing issues.\n",
    "## Since, we dont have any information regarding the Number members for more than 90% of the records, we should remove the attribute\n",
    "\n",
    "remove_cols = [\"Number of Members\",\"Issue in Number of Members\"]\n",
    "cleansed_1 = cleansed_1.drop(columns = remove_cols, axis = 1)\n"
   ]
  },
  {
   "cell_type": "markdown",
   "id": "398175ed",
   "metadata": {},
   "source": [
    "Since, All the values in Registration Number is numeric, but stored as object/String, we need to change the format of the attribute"
   ]
  },
  {
   "cell_type": "code",
   "execution_count": null,
   "id": "0cfd76a3",
   "metadata": {},
   "outputs": [],
   "source": [
    "## Authorized Capital\n",
    "cleansed_1[\"Authorized Capital\"].unique()"
   ]
  },
  {
   "cell_type": "code",
   "execution_count": null,
   "id": "a28942bc",
   "metadata": {},
   "outputs": [],
   "source": [
    "## Since, the format of Authorised Capital is not what we want, we need to remove \"₹\" and \",\" and convert the attribute to numeric\n",
    "cleansed_1[\"Authorized Capital\"] = pd.to_numeric(cleansed_1[\"Authorized Capital\"].replace('₹','', regex=True).replace(\",\",\"\",regex= True))\n"
   ]
  },
  {
   "cell_type": "code",
   "execution_count": null,
   "id": "54162663",
   "metadata": {},
   "outputs": [],
   "source": [
    "## Checking whether issues have been resolved \n",
    "\n",
    "cleansed_1[\"Issue in Authorized Capital\"] = num_col_sanity(\"Authorized Capital\",cleansed_1)\n",
    "\n",
    "print( \"Issues have not been resolved for : \" +str(sum(cleansed_1[\"Issue in Authorized Capital\"])) + \" Records\")\n"
   ]
  },
  {
   "cell_type": "code",
   "execution_count": null,
   "id": "87df93ca",
   "metadata": {},
   "outputs": [],
   "source": [
    "## Authorized Capital\n",
    "print(cleansed_1[\"Paid up Capital\"].unique())\n",
    "\n",
    "## Checking if any value is not in currency format\n",
    "\n",
    "cleansed_1[\"Blank Paid up Capital\"] = cleansed_1[\"Paid up Capital\"].apply(lambda x : 1 if x in [\"\",\"-\"] else 0)\n",
    "cleansed_1[\"Alpha Paid up Capital\"] = cleansed_1[\"Paid up Capital\"].apply(lambda x : 0 if re.match(\"₹\",str(x))\n",
    "                                                                          else 1)\n",
    "\n",
    "print(str(sum(cleansed_1[\"Blank Paid up Capital\"])) +\" have blank Paid Up Capital\")\n",
    "print(str(sum(cleansed_1[\"Alpha Paid up Capital\"])) +\" have Paid Up Capital that is not in currency form\")\n"
   ]
  },
  {
   "cell_type": "code",
   "execution_count": null,
   "id": "9608cda1",
   "metadata": {},
   "outputs": [],
   "source": [
    "## Since, we dont have any information regarding the paid up Capital for 252 records, we should remove them from the dataset\n",
    "\n",
    "cleansed_2 = cleansed_1[cleansed_1[\"Alpha Paid up Capital\"]==0].reset_index(drop=True)\n"
   ]
  },
  {
   "cell_type": "code",
   "execution_count": null,
   "id": "c0fcf742",
   "metadata": {},
   "outputs": [],
   "source": [
    "## Since, the format of Paid up Capital is not what we want, we need to remove \"₹\" and \",\" and convert the attribute to numeric\n",
    "cleansed_2[\"Paid up Capital\"] = pd.to_numeric(cleansed_2[\"Paid up Capital\"].replace('₹','', regex=True).replace(\",\",\"\",regex= True))\n"
   ]
  },
  {
   "cell_type": "code",
   "execution_count": null,
   "id": "933fad4e",
   "metadata": {},
   "outputs": [],
   "source": [
    "## Checking whether issues have been resolved \n",
    "\n",
    "cleansed_2[\"Issue in Paid up Capital\"] = num_col_sanity(\"Paid up Capital\",cleansed_2)\n",
    "\n",
    "print( \"Issues have not been resolved for : \" +str(sum(cleansed_2[\"Issue in Paid up Capital\"])) + \" Records\")\n"
   ]
  },
  {
   "cell_type": "markdown",
   "id": "32a9bab8",
   "metadata": {},
   "source": [
    "## Fixing for Date Columns\n",
    "\n"
   ]
  },
  {
   "cell_type": "code",
   "execution_count": null,
   "id": "ab9dd5b2",
   "metadata": {},
   "outputs": [],
   "source": [
    "## Date of Incorporation\n",
    "\n",
    "cleansed_2[\"Date of Incorporation\"].unique()\n"
   ]
  },
  {
   "cell_type": "code",
   "execution_count": null,
   "id": "c0e816b4",
   "metadata": {},
   "outputs": [],
   "source": [
    "#Since Date of Incorporation is not in date format, converting it to date format.\n",
    "\n",
    "cleansed_2['Date of Incorporation'] = pd.to_datetime(cleansed_2['Date of Incorporation'], format='%d %B %Y')\n",
    "cleansed_2['Date of Incorporation'].head(5)"
   ]
  },
  {
   "cell_type": "code",
   "execution_count": null,
   "id": "577868cb",
   "metadata": {},
   "outputs": [],
   "source": [
    "## Checking if issue has been resolved \n",
    "\n",
    "cleansed_2[\"Issue in Date of Incorporation\"] = date_col_sanity(\"Date of Incorporation\",cleansed_2)\n",
    "\n",
    "print( \"Issues have not been resolved for : \" +str(sum(cleansed_2[\"Issue in Date of Incorporation\"])) + \" Records\")\n"
   ]
  },
  {
   "cell_type": "code",
   "execution_count": null,
   "id": "7ce77726",
   "metadata": {},
   "outputs": [],
   "source": [
    "## Date of Last Annual General Meeting\n",
    "\n",
    "cleansed_2[\"Date of Last Annual General Meeting\"].unique()\n"
   ]
  },
  {
   "cell_type": "code",
   "execution_count": null,
   "id": "168a9777",
   "metadata": {},
   "outputs": [],
   "source": [
    "#Since Date of Incorporation is not in date format, converting it to date format.\n",
    "\n",
    "cleansed_2['Date of Last Annual General Meeting'] = pd.to_datetime(cleansed_2['Date of Last Annual General Meeting'], format='%d %B %Y')\n",
    "cleansed_2['Date of Last Annual General Meeting'].head(5)"
   ]
  },
  {
   "cell_type": "code",
   "execution_count": null,
   "id": "698e56a7",
   "metadata": {},
   "outputs": [],
   "source": [
    "## Checking if issue has been resolved \n",
    "\n",
    "cleansed_2[\"Issue in Date of Last Annual General Meeting\"] = date_col_sanity(\"Date of Last Annual General Meeting\",cleansed_2)\n",
    "\n",
    "print( \"Issues have not been resolved for : \" +str(sum(cleansed_2[\"Issue in Date of Last Annual General Meeting\"])) + \" Records\")\n"
   ]
  },
  {
   "cell_type": "code",
   "execution_count": null,
   "id": "484bacab",
   "metadata": {},
   "outputs": [],
   "source": [
    "## Date of Last Annual General Meeting\n",
    "\n",
    "cleansed_2[\"Date of Latest Balance Sheet\"].unique()\n"
   ]
  },
  {
   "cell_type": "code",
   "execution_count": null,
   "id": "12b2c08e",
   "metadata": {},
   "outputs": [],
   "source": [
    "#Since Date of Incorporation is not in date format, converting it to date format.\n",
    "\n",
    "cleansed_2['Date of Latest Balance Sheet'] = pd.to_datetime(cleansed_2['Date of Latest Balance Sheet'], format='%d %B %Y')\n",
    "cleansed_2['Date of Latest Balance Sheet'].head(5)"
   ]
  },
  {
   "cell_type": "code",
   "execution_count": null,
   "id": "fc8af248",
   "metadata": {},
   "outputs": [],
   "source": [
    "## Checking if issue has been resolved \n",
    "\n",
    "cleansed_2[\"Issue in Date of Last Annual General Meeting\"] = date_col_sanity(\"Date of Latest Balance Sheet\",cleansed_2)\n",
    "\n",
    "print( \"Issues have not been resolved for : \" +str(sum(cleansed_2[\"Issue in Date of Last Annual General Meeting\"])) + \" Records\")\n"
   ]
  },
  {
   "cell_type": "markdown",
   "id": "6bfd594c",
   "metadata": {},
   "source": [
    "## Checking Issues with Non - Numeric Columns like Acitivity, Email, Website"
   ]
  },
  {
   "cell_type": "code",
   "execution_count": null,
   "id": "b015714f",
   "metadata": {},
   "outputs": [],
   "source": [
    "## Activity :\n",
    "\n",
    "cleansed_2[\"Activity\"].unique()"
   ]
  },
  {
   "cell_type": "code",
   "execution_count": null,
   "id": "3a6cbbf4",
   "metadata": {},
   "outputs": [],
   "source": [
    "## In Activity in all the records we can see \"Click here to see other companies involved in same activity.\", which needs to be removed\n",
    "\n",
    "\n",
    "cleansed_2[\"Activity\"] = cleansed_2[\"Activity\"].replace('Click'+\".*\",'', regex=True)\n",
    "cleansed_2[\"Activity\"].unique()[0:5]"
   ]
  },
  {
   "cell_type": "code",
   "execution_count": null,
   "id": "a4112598",
   "metadata": {},
   "outputs": [],
   "source": [
    "## However, the above fix was not highlighted in sanity check. check for the acitivities, where Sanity check issue record was highlihgted\n",
    "\n",
    "sum(cleansed_2[\"Issue in Activity\"])\n",
    "\n",
    "## All the issues have been resolved in Acitivity"
   ]
  },
  {
   "cell_type": "code",
   "execution_count": null,
   "id": "c5ca2ab1",
   "metadata": {},
   "outputs": [],
   "source": [
    "## Email ID\n",
    "cleansed_2[cleansed_2[\"Issue in Email ID\"]==1][\"Email ID\"].unique()\n"
   ]
  },
  {
   "cell_type": "code",
   "execution_count": null,
   "id": "60015b96",
   "metadata": {},
   "outputs": [],
   "source": [
    "## Since, all the issues highlighted in Email has been highlighted due to unavailablity of Email ID on zuabacorp site.\n",
    "\n",
    "## we can keep it blank and get it through crowdsourcing\n",
    "\n",
    "cleansed_2[\"Email ID\"] =  cleansed_2[\"Email ID\"].replace(\"-\",\"\",regex= True)"
   ]
  },
  {
   "cell_type": "code",
   "execution_count": null,
   "id": "e944885c",
   "metadata": {},
   "outputs": [],
   "source": [
    "## Since, this was the only issue being highlighted in Email, we will 0 out the Issue in Email ID\n",
    "\n",
    "cleansed_2[\"Issue in Email ID\"] = 0\n"
   ]
  },
  {
   "cell_type": "code",
   "execution_count": null,
   "id": "7b5a63b4",
   "metadata": {},
   "outputs": [],
   "source": [
    "## Website\n",
    "cleansed_2[cleansed_2[\"Issue in Website\"]==1][\"Website\"].unique()\n"
   ]
  },
  {
   "cell_type": "code",
   "execution_count": null,
   "id": "cef838b0",
   "metadata": {},
   "outputs": [],
   "source": [
    "## Since, all the issues highlighted in Email has been highlighted due to unavailablity of Email ID on zuabacorp site.\n",
    "\n",
    "## we can keep it blank and get it through crowdsourcing\n",
    "\n",
    "cleansed_2[\"Website\"] =  cleansed_2[\"Website\"].replace(\"Click here   to add.\",\"\",regex= True)"
   ]
  },
  {
   "cell_type": "code",
   "execution_count": null,
   "id": "9af4bab6",
   "metadata": {},
   "outputs": [],
   "source": [
    "## Since, this was the only issue being highlighted in Email, we will 0 out the Issue in Email ID\n",
    "\n",
    "cleansed_2[\"Issue in Website\"] = 0\n"
   ]
  },
  {
   "cell_type": "code",
   "execution_count": null,
   "id": "6e37b9a9",
   "metadata": {},
   "outputs": [],
   "source": [
    "print(cleansed_2[cleansed_2['Issue in Address']==1][\"Address\"])\n",
    "\n",
    "## Since, Address is missing for only 1 record, we will keep it as blank\n",
    "\n",
    "cleansed_2['Issue in Address'] =0"
   ]
  },
  {
   "cell_type": "code",
   "execution_count": null,
   "id": "9721a5e0",
   "metadata": {},
   "outputs": [],
   "source": [
    "Issue_cols = cleansed_2.columns[cleansed_2.columns.str.startswith(\"Issue\")]"
   ]
  },
  {
   "cell_type": "code",
   "execution_count": null,
   "id": "3e883716",
   "metadata": {},
   "outputs": [],
   "source": [
    "total_error = sum(cleansed_2[Issue_cols].sum(axis = 1))\n",
    "total_error"
   ]
  },
  {
   "cell_type": "code",
   "execution_count": null,
   "id": "14f12ad4",
   "metadata": {},
   "outputs": [],
   "source": [
    "## Keeping only the Attributes\n",
    "\n",
    "extra_cols = [\"Records to be Removed Error Sum\",\"Records to be Removed Flag\",\n",
    "              \"Blank Paid up Capital\",\"Alpha Paid up Capital\"]\n",
    "\n",
    "cleansed_3 = cleansed_2.drop(columns = Issue_cols,axis = 1)\n",
    "cleansed_4 = cleansed_3.drop(columns = extra_cols,axis = 1)"
   ]
  },
  {
   "cell_type": "code",
   "execution_count": null,
   "id": "e58c813c",
   "metadata": {},
   "outputs": [],
   "source": [
    "cleansed_4.shape"
   ]
  },
  {
   "cell_type": "markdown",
   "id": "d15d0e3c",
   "metadata": {},
   "source": [
    "All the Sanity Check Errors have been resolved"
   ]
  },
  {
   "cell_type": "markdown",
   "id": "a5edfaf9",
   "metadata": {},
   "source": [
    "## 2) Cleaning Data - Performing Logical Tests"
   ]
  },
  {
   "cell_type": "code",
   "execution_count": null,
   "id": "d52ac0d9",
   "metadata": {},
   "outputs": [],
   "source": [
    "## CIN\n",
    "\n",
    "## Checking CIN no. is greater than 18 digits for all \n",
    "\n",
    "cleansed_4[\"CIN len less than 18\"] = cleansed_4[\"CIN\"].apply(lambda x : 1 if len(x)<18 else 0)\n",
    "print(\"Length of CIN is less than 18 for \" + str(sum(cleansed_4[\"CIN len less than 18\"])) + \" records\")\n"
   ]
  },
  {
   "cell_type": "code",
   "execution_count": null,
   "id": "bef7507a",
   "metadata": {},
   "outputs": [],
   "source": [
    "cleansed_4 = cleansed_4.drop([\"CIN len less than 18\"],axis = 1)"
   ]
  },
  {
   "cell_type": "code",
   "execution_count": null,
   "id": "43083622",
   "metadata": {},
   "outputs": [],
   "source": [
    "## RoC\n",
    "\n",
    "## Checking RoC starts with \"RoC -\" \n",
    "\n",
    "cleansed_4[\"Start with RoC\"] = cleansed_4[\"RoC\"].apply(lambda x : 0 if x.startswith(\"RoC-\") else 1)\n",
    "print(\"RoC does not start with RoC- for \" + str(sum(cleansed_4[\"Start with RoC\"])) + \" records\")"
   ]
  },
  {
   "cell_type": "code",
   "execution_count": null,
   "id": "b17bd8b4",
   "metadata": {},
   "outputs": [],
   "source": [
    "cleansed_4 = cleansed_4.drop([\"Start with RoC\"],axis = 1)"
   ]
  },
  {
   "cell_type": "code",
   "execution_count": null,
   "id": "201139e3",
   "metadata": {},
   "outputs": [],
   "source": [
    "## Company Status\n",
    "\n",
    "cleansed_4[\"Company Status\"].unique()\n",
    "\n",
    "## the Company Status values have consistent Values"
   ]
  },
  {
   "cell_type": "code",
   "execution_count": null,
   "id": "33b14da2",
   "metadata": {},
   "outputs": [],
   "source": [
    "## Company Category\n",
    "\n",
    "cleansed_4[\"Company Category\"].unique()\n",
    "\n",
    "## the Company Category values have consistent Values"
   ]
  },
  {
   "cell_type": "code",
   "execution_count": null,
   "id": "81df78e2",
   "metadata": {},
   "outputs": [],
   "source": [
    "## Company Subcategory\n",
    "\n",
    "cleansed_4[\"Company Subcategory\"].unique()\n",
    "\n",
    "## the Company Subcategory values have consistent Values"
   ]
  },
  {
   "cell_type": "code",
   "execution_count": null,
   "id": "a926b29c",
   "metadata": {},
   "outputs": [],
   "source": [
    "## Class of Company\n",
    "\n",
    "cleansed_4[\"Class of Company\"].unique()\n",
    "\n",
    "## the Class of Company values have consistent Values"
   ]
  },
  {
   "cell_type": "code",
   "execution_count": null,
   "id": "bd9922d7",
   "metadata": {},
   "outputs": [],
   "source": [
    "## Is Paid up Capital < Authorized Capital\n",
    "cleansed_4[\"Paid up > Authorized\"] = np.where(cleansed_4[\"Paid up Capital\"] > cleansed_4[\"Authorized Capital\"],1,0)\n",
    "\n",
    "sum(cleansed_4[\"Paid up > Authorized\"])"
   ]
  },
  {
   "cell_type": "markdown",
   "id": "6c5bf78d",
   "metadata": {},
   "source": [
    "At any point, the paid-up capital of a company can never be more than its authorized capital but it can be equal to the authorised captial\n",
    "Removing these 22 records as well."
   ]
  },
  {
   "cell_type": "code",
   "execution_count": null,
   "id": "6165f1e4",
   "metadata": {},
   "outputs": [],
   "source": [
    "cleansed_5 = cleansed_4[cleansed_4[\"Paid up > Authorized\"]==0].reset_index(drop = True)"
   ]
  },
  {
   "cell_type": "code",
   "execution_count": null,
   "id": "42a46d92",
   "metadata": {},
   "outputs": [],
   "source": [
    "cleansed_5 = cleansed_5.drop([\"Paid up > Authorized\"],axis = 1)"
   ]
  },
  {
   "cell_type": "code",
   "execution_count": null,
   "id": "6692a707",
   "metadata": {},
   "outputs": [],
   "source": [
    "cleansed_5.shape"
   ]
  },
  {
   "cell_type": "markdown",
   "id": "06c610f1",
   "metadata": {},
   "source": [
    "checking if All the Numerical columns, Values is not less than 0"
   ]
  },
  {
   "cell_type": "code",
   "execution_count": null,
   "id": "f55e81ef",
   "metadata": {},
   "outputs": [],
   "source": [
    "cleansed_5[\"Authorized > 0\"] = np.where(cleansed_5[\"Authorized Capital\"] < 0,1,0)\n",
    "cleansed_5[\"Paid up > 0\"] = np.where(cleansed_5[\"Paid up Capital\"] < 0,1,0)\n",
    "cleansed_5[\"Number of Directors > 0\"] = np.where(cleansed_5[\"Number of Directors\"] < 0,1,0)\n",
    "cleansed_5[\"No of Prosecution > 0\"] = np.where(cleansed_5[\"No of Prosecution\"] < 0,1,0)\n",
    "cleansed_5[\"Charges/Borrowing > 0\"] = np.where(cleansed_5[\"Charges/Borrowing Details\"] < 0,1,0)\n",
    "\n",
    "print(\"Authorized Capital is less than 0 for : \" + str(sum(cleansed_5[\"Authorized > 0\"]))+\" Records\")\n",
    "print(\"Paid up Capital is less than 0 for : \" + str(sum(cleansed_5[\"Paid up > 0\"]))+\" Records\")\n",
    "print(\"No of Directors is less than 0 for : \" + str(sum(cleansed_5[\"Number of Directors > 0\"]))+\" Records\")\n",
    "print(\"No. of Prosecution is less than 0 for : \" + str(sum(cleansed_5[\"No of Prosecution > 0\"]))+\" Records\")\n",
    "print(\"Charges/Borrowing is less than 0 for : \" + str(sum(cleansed_5[\"Charges/Borrowing > 0\"]))+\" Records\")\n"
   ]
  },
  {
   "cell_type": "code",
   "execution_count": null,
   "id": "685cc8ce",
   "metadata": {},
   "outputs": [],
   "source": [
    "#Since, No. of Porsecutions can not be less than 0, we will replace it with 0"
   ]
  },
  {
   "cell_type": "code",
   "execution_count": null,
   "id": "685b1570",
   "metadata": {},
   "outputs": [],
   "source": [
    "cleansed_5[\"No of Prosecution\"] = np.where(cleansed_5[\"No of Prosecution > 0\"] ==1,0,cleansed_5[\"No of Prosecution\"])\n",
    "\n",
    "rm_cols = [\"Authorized > 0\",\"Paid up > 0\",\"Number of Directors > 0\", \"No of Prosecution > 0\",\"Charges/Borrowing > 0\"]\n",
    "\n",
    "cleansed_5 = cleansed_5.drop(columns = rm_cols,axis = 1)"
   ]
  },
  {
   "cell_type": "code",
   "execution_count": null,
   "id": "3a649fe7",
   "metadata": {},
   "outputs": [],
   "source": [
    "cleansed_5.shape"
   ]
  },
  {
   "cell_type": "markdown",
   "id": "51eded31",
   "metadata": {},
   "source": [
    "## Updating existing columns/ Creating Additional Attributes from exisiting Attributes"
   ]
  },
  {
   "cell_type": "code",
   "execution_count": null,
   "id": "e8d324c7",
   "metadata": {},
   "outputs": [],
   "source": [
    "cleansed_5[\"RoC\"] = cleansed_5[\"RoC\"].replace(\"RoC-\",\"\",regex=True)\n",
    "cleansed_5[\"RoC\"].unique()"
   ]
  },
  {
   "cell_type": "code",
   "execution_count": null,
   "id": "69aa0ab5",
   "metadata": {},
   "outputs": [],
   "source": [
    "cleansed_5[\"Address\"].unique()"
   ]
  },
  {
   "cell_type": "markdown",
   "id": "56970ec8",
   "metadata": {},
   "source": [
    "Since, the Second Last element of the Address is the Pincode and The 3rd Last element is the State, we can extract them and create new Attributes for PINCODE and State"
   ]
  },
  {
   "cell_type": "code",
   "execution_count": null,
   "id": "067d0d38",
   "metadata": {},
   "outputs": [],
   "source": [
    "cleansed_5[\"Pincode\"] = cleansed_5[\"Address\"].apply(lambda x : \"\" if pd.isna(x) or \"\" else x.split()[-2])\n",
    "cleansed_5[\"Pincode\"] .unique()"
   ]
  },
  {
   "cell_type": "code",
   "execution_count": null,
   "id": "bc0ec8ac",
   "metadata": {},
   "outputs": [],
   "source": [
    "## Validating that Pincode is of 6 digits\n",
    "cleansed_5[\"Pincode Validation\"] = cleansed_5[\"Pincode\"].apply(lambda x : 0 if len(x)==6 and x.isnumeric else 1)\n",
    "\n",
    "print(\"Pincode is not Extracted correctly for \" + str(sum(cleansed_5[\"Pincode Validation\"]))+ \" records\")"
   ]
  },
  {
   "cell_type": "code",
   "execution_count": null,
   "id": "1e1f09ff",
   "metadata": {},
   "outputs": [],
   "source": [
    "## Checking the Address column to see why Pincode cannot be extracted correctly\n",
    "\n",
    "cleansed_5[cleansed_5[\"Pincode Validation\"]==1][\"Address\"]"
   ]
  },
  {
   "cell_type": "code",
   "execution_count": null,
   "id": "40da846c",
   "metadata": {},
   "outputs": [],
   "source": [
    "## Since, Address attribute for these records are not correct, changing it to blank.\n",
    "\n",
    "cleansed_5[\"Address\"] = np.where(cleansed_5[\"Pincode Validation\"]==1,\"\",cleansed_5[\"Address\"]) \n",
    "cleansed_5[\"Pincode\"] = np.where(cleansed_5[\"Pincode Validation\"]==1,\"\",cleansed_5[\"Pincode\"]) \n",
    "\n",
    "cleansed_5 = cleansed_5.drop([\"Pincode Validation\"], axis = 1)"
   ]
  },
  {
   "cell_type": "code",
   "execution_count": null,
   "id": "f0bdf923",
   "metadata": {},
   "outputs": [],
   "source": [
    "## Extracting State from Address\n",
    "cleansed_5[\"State\"] = cleansed_5[\"Address\"].apply(lambda x : x.split()[-3] if x !=\"\" else \"\")\n",
    "cleansed_5[\"State\"].unique()"
   ]
  },
  {
   "cell_type": "code",
   "execution_count": null,
   "id": "100f2344",
   "metadata": {},
   "outputs": [],
   "source": [
    "## Creating Agr Group \n",
    "\n",
    "def Age_group(data) :\n",
    "    \n",
    "    if data[\"Age of Company\"]  < 1 : return \"Less than 1 Year\"\n",
    "    elif data[\"Age of Company\"] >= 1 and data[\"Age of Company\"] < 3 : return '1 to 3 Years'\n",
    "    elif data[\"Age of Company\"] >= 3 and data[\"Age of Company\"] < 5 : return '3 to 5 Years'\n",
    "    elif data[\"Age of Company\"] >= 5 and data[\"Age of Company\"] < 10 : return '5 to 10 Years'\n",
    "    elif data[\"Age of Company\"] >= 10 and data[\"Age of Company\"] < 25 : return '10 to 25 Years'\n",
    "    else : return \"More than 25 Years\"\n",
    "    \n",
    "\n",
    "cleansed_5[\"Age Group\"] = cleansed_5.apply(Age_group, axis = 1)\n",
    "cleansed_5[\"Age Group\"].unique()"
   ]
  },
  {
   "cell_type": "code",
   "execution_count": null,
   "id": "70d9c99a",
   "metadata": {},
   "outputs": [],
   "source": [
    "## Creating Paid up Capital Group \n",
    "\n",
    "def paidup_group(data) :\n",
    "    \n",
    "    if data[\"Paid up Capital\"]  < 100000 : return \"0 - 1 Lakh\"\n",
    "    elif data[\"Paid up Capital\"] >= 100000 and data[\"Paid up Capital\"] < 500000 : return '1 Lakh - 5 Lakhs'\n",
    "    elif data[\"Paid up Capital\"] >= 500000 and data[\"Paid up Capital\"] < 2500000 : return '5 Lakhs - 25 Lakhs'\n",
    "    elif data[\"Paid up Capital\"] >= 2500000 and data[\"Paid up Capital\"] < 10000000 : return '25 Lakhs - 1 Crore'\n",
    "    elif data[\"Paid up Capital\"] >= 10000000 and data[\"Paid up Capital\"] < 50000000 : return '1 Crore - 5 Crores'\n",
    "    elif data[\"Paid up Capital\"] >= 50000000 and data[\"Paid up Capital\"] < 250000000 : return '5 Crores - 25 Crores'\n",
    "    elif data[\"Paid up Capital\"] >= 250000000 and data[\"Paid up Capital\"] < 1000000000 : return '25 Crores - 100 Crores'\n",
    "    elif data[\"Paid up Capital\"] >= 1000000000 and data[\"Paid up Capital\"] < 5000000000 : return '100 Crores - 500 Crores'\n",
    "    else : return \"500 Crores +\"\n",
    "    \n",
    "\n",
    "cleansed_5[\"Paid up Capital Group\"] = cleansed_5.apply(paidup_group, axis = 1)\n",
    "cleansed_5[\"Paid up Capital Group\"].unique()"
   ]
  },
  {
   "cell_type": "code",
   "execution_count": null,
   "id": "a1c34b02",
   "metadata": {},
   "outputs": [],
   "source": [
    "## Creating Paid up Capital Group \n",
    "\n",
    "def paidup_group(data) :\n",
    "    \n",
    "    if data[\"Paid up Capital\"]  < 100000 : return \"0 - 1 Lakh\"\n",
    "    elif data[\"Paid up Capital\"] >= 100000 and data[\"Paid up Capital\"] < 500000 : return '1 Lakh - 5 Lakhs'\n",
    "    elif data[\"Paid up Capital\"] >= 500000 and data[\"Paid up Capital\"] < 2500000 : return '5 Lakhs - 25 Lakhs'\n",
    "    elif data[\"Paid up Capital\"] >= 2500000 and data[\"Paid up Capital\"] < 10000000 : return '25 Lakhs - 1 Crore'\n",
    "    elif data[\"Paid up Capital\"] >= 10000000 and data[\"Paid up Capital\"] < 50000000 : return '1 Crore - 5 Crores'\n",
    "    elif data[\"Paid up Capital\"] >= 50000000 and data[\"Paid up Capital\"] < 250000000 : return '5 Crores - 25 Crores'\n",
    "    elif data[\"Paid up Capital\"] >= 250000000 and data[\"Paid up Capital\"] < 1000000000 : return '25 Crores - 100 Crores'\n",
    "    elif data[\"Paid up Capital\"] >= 1000000000 and data[\"Paid up Capital\"] < 5000000000 : return '100 Crores - 500 Crores'\n",
    "    else : return \"500 Crores +\"\n",
    "    \n",
    "\n",
    "cleansed_5[\"Paid up Capital Group\"] = cleansed_5.apply(paidup_group, axis = 1)\n",
    "cleansed_5[\"Paid up Capital Group\"].unique()"
   ]
  },
  {
   "cell_type": "code",
   "execution_count": null,
   "id": "db03c2b8",
   "metadata": {},
   "outputs": [],
   "source": [
    "cleansed_5.shape"
   ]
  },
  {
   "cell_type": "code",
   "execution_count": null,
   "id": "32196e1f",
   "metadata": {},
   "outputs": [],
   "source": [
    "cleansed_5.to_excel(\"Companies_final_cleansed.xls\", index = False)"
   ]
  },
  {
   "cell_type": "markdown",
   "id": "8218dcb5",
   "metadata": {},
   "source": [
    "## Excel to .Json (cleaned and validated output)"
   ]
  },
  {
   "cell_type": "code",
   "execution_count": null,
   "id": "5a7eeb2f",
   "metadata": {},
   "outputs": [],
   "source": [
    "import excel2json\n",
    "\n",
    "excel2json.convert_from_file('Companies_final_cleansed.xls')"
   ]
  }
 ],
 "metadata": {
  "kernelspec": {
   "display_name": "Python 3 (ipykernel)",
   "language": "python",
   "name": "python3"
  },
  "language_info": {
   "codemirror_mode": {
    "name": "ipython",
    "version": 3
   },
   "file_extension": ".py",
   "mimetype": "text/x-python",
   "name": "python",
   "nbconvert_exporter": "python",
   "pygments_lexer": "ipython3",
   "version": "3.9.7"
  }
 },
 "nbformat": 4,
 "nbformat_minor": 5
}
