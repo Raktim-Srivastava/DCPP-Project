{
 "cells": [
  {
   "cell_type": "markdown",
   "metadata": {},
   "source": [
    "## CRAWL Code 'Unlisted Companies in India with Randomized page number'"
   ]
  },
  {
   "cell_type": "code",
   "execution_count": null,
   "metadata": {
    "id": "mNJvcM9T8m8r"
   },
   "outputs": [],
   "source": [
    "#!pip install url_normalize\n",
    "\n",
    "import logging\n",
    "import time\n",
    "import json\n",
    "from urllib.parse import urljoin\n",
    "from url_normalize import url_normalize\n",
    "import requests\n",
    "from bs4 import BeautifulSoup\n",
    "import random"
   ]
  },
  {
   "cell_type": "code",
   "execution_count": null,
   "metadata": {
    "id": "DvEigEDj828X"
   },
   "outputs": [],
   "source": [
    "logging.basicConfig(format = '%(asctime)s %(levelname)s:%(message)s', level = logging.INFO)"
   ]
  },
  {
   "cell_type": "markdown",
   "metadata": {},
   "source": [
    "## Execute the Crawler Class to append URLs"
   ]
  },
  {
   "cell_type": "code",
   "execution_count": null,
   "metadata": {
    "id": "b_MM2y1W86t7"
   },
   "outputs": [],
   "source": [
    "class Crawler:\n",
    "\n",
    "    def __init__(self, urls = [], domains = [], limit = 100):\n",
    "        \n",
    "        self.visited_urls = []\n",
    "        self.urls_to_visit = urls\n",
    "        self.limit = limit\n",
    "        self.domains = domains\n",
    "        return\n",
    "\n",
    "    def download_url(self, url):\n",
    "        try:\n",
    "            time.sleep(1)\n",
    "            return requests.get(url).text\n",
    "        \n",
    "        except Exception as E:\n",
    "            return ''\n",
    "\n",
    "\n",
    "    def get_linked_urls(self, url, html):\n",
    "        soup = BeautifulSoup(html, 'html.parser')\n",
    "        \n",
    "        for link in soup.find_all('a'):\n",
    "            \n",
    "            path = link.get('href')\n",
    "\n",
    "            #search.php3\n",
    "            \n",
    "            if path and (path.startswith('/') or not path.startswith('https://')):\n",
    "                path = urljoin(url, path)\n",
    "\n",
    "            yield path\n",
    "\n",
    "    def domain_check(self, url):\n",
    "        for domain in self.domains:\n",
    "            if domain in url:\n",
    "                return True\n",
    "        return False\n",
    "\n",
    "    def add_url_to_visit(self, url):\n",
    "        total_crawled = len(self.visited_urls) + len(self.urls_to_visit)\n",
    "        \n",
    "        if total_crawled >= self.limit:\n",
    "            return\n",
    "        \n",
    "        if not url or url == '':\n",
    "            return\n",
    "\n",
    "        if self.domain_check(url) == False:\n",
    "            return\n",
    "\n",
    "        if url not in self.visited_urls and url not in self.urls_to_visit:\n",
    "            self.urls_to_visit.append(url)\n",
    "            return\n",
    "\n",
    "    def crawl(self, url):\n",
    "        html = self.download_url(url)\n",
    "        \n",
    "        for url in self.get_linked_urls(url, html):\n",
    "            self.add_url_to_visit(url)\n",
    "\n",
    "    def run(self):\n",
    "        while self.urls_to_visit:\n",
    "            url = self.urls_to_visit.pop(0)\n",
    "            \n",
    "            logging.info(f' Fetching {url}')\n",
    "            \n",
    "            try:\n",
    "                self.crawl(url)\n",
    "            \n",
    "            except Exception:\n",
    "                logging.exception(f' Failed to fetch {url}')\n",
    "            \n",
    "            finally:\n",
    "                self.visited_urls.append(url)"
   ]
  },
  {
   "cell_type": "markdown",
   "metadata": {},
   "source": [
    "## Set parameters for the crawler, in terms of limits of URLs, Domain to be checked.\n",
    "## Dump URL's visited in a .Json file.\n",
    "## Use a random page selector in order to get an assorted list of companies (not favouring any one category)\n"
   ]
  },
  {
   "cell_type": "code",
   "execution_count": null,
   "metadata": {
    "colab": {
     "base_uri": "https://localhost:8080/"
    },
    "id": "lAXbymM58_Nd",
    "outputId": "2469fea6-3ccc-4973-eecf-e3e8f222b591",
    "scrolled": true
   },
   "outputs": [],
   "source": [
    "if __name__ == '__main__':\n",
    "    urls = ['https://www.zaubacorp.com/company-list/listed-Unlisted-company.html']\n",
    "    \n",
    "    sel_rand_page = random.sample(range(13333),700) ## Selecting Random Pages\n",
    "    \n",
    "    for i in sel_rand_page:\n",
    "      urls.append('https://www.zaubacorp.com/company-list/listed-Unlisted/p-' + str(i) + '-company.html')\n",
    "    crawler = Crawler(urls,domains= ['https://www.zaubacorp.com/company/'], limit = 25000)\n",
    "    crawler.run()\n",
    "\n",
    "    display = False\n",
    "    \n",
    "    if display == True:\n",
    "        print(crawler.visited_urls, flush = True)\n",
    "\n",
    "    # Saving visited URLs\n",
    "    with open('crawled_URLs.json', 'w+') as f:\n",
    "        json.dump(crawler.visited_urls, f)"
   ]
  },
  {
   "cell_type": "markdown",
   "metadata": {},
   "source": [
    "## Extract the list of random pages generated for the Crawl."
   ]
  },
  {
   "cell_type": "code",
   "execution_count": null,
   "metadata": {},
   "outputs": [],
   "source": [
    "import pandas as pd\n",
    "rand = pd.DataFrame(sel_rand_page)\n",
    "rand.columns = [\"Page No. Selected\"]\n",
    "rand.to_csv(\"random_selection.csv\",index = False)"
   ]
  }
 ],
 "metadata": {
  "colab": {
   "collapsed_sections": [],
   "name": "Crawl_Unlisted_v1.ipynb",
   "provenance": []
  },
  "kernelspec": {
   "display_name": "Python 3 (ipykernel)",
   "language": "python",
   "name": "python3"
  },
  "language_info": {
   "codemirror_mode": {
    "name": "ipython",
    "version": 3
   },
   "file_extension": ".py",
   "mimetype": "text/x-python",
   "name": "python",
   "nbconvert_exporter": "python",
   "pygments_lexer": "ipython3",
   "version": "3.9.7"
  }
 },
 "nbformat": 4,
 "nbformat_minor": 1
}
